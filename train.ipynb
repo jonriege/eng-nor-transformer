{
 "cells": [
  {
   "cell_type": "markdown",
   "id": "7ad129c4-2555-43ef-bb7d-e662a3b21ac7",
   "metadata": {},
   "source": [
    "# Train Transformer\n",
    "This notebook trains the Transformer and embeds it in a translator class. It is based on the [Neural Machine Translation with a Transformer and Keras](https://www.tensorflow.org/text/tutorials/transformer) tutorial by TensorFlow."
   ]
  },
  {
   "cell_type": "code",
   "execution_count": 41,
   "id": "04ff7984-9b6a-4d5c-be29-d3a1d98b6a61",
   "metadata": {},
   "outputs": [
    {
     "name": "stdout",
     "output_type": "stream",
     "text": [
      "The autoreload extension is already loaded. To reload it, use:\n",
      "  %reload_ext autoreload\n"
     ]
    }
   ],
   "source": [
    "%load_ext autoreload\n",
    "%autoreload 2"
   ]
  },
  {
   "cell_type": "code",
   "execution_count": 42,
   "id": "a3c8cbed-61e2-47f1-875d-4297c70f652d",
   "metadata": {},
   "outputs": [],
   "source": [
    "import tensorflow as tf\n",
    "from tensorflow.keras import layers\n",
    "import pandas as pd\n",
    "import numpy as np\n",
    "from matplotlib import pyplot as plt"
   ]
  },
  {
   "cell_type": "code",
   "execution_count": 43,
   "id": "bb18a7ef-a158-409d-b7f5-82dd7451bbea",
   "metadata": {},
   "outputs": [],
   "source": [
    "import config"
   ]
  },
  {
   "cell_type": "markdown",
   "id": "3c2bd93f-5b72-47e9-9778-61810dfa34ce",
   "metadata": {},
   "source": [
    "## Dataset and tokenizers\n",
    "Load dataset and tokenizers, see the tokenization notebook for details. Plot the distribution of tokens per sentence."
   ]
  },
  {
   "cell_type": "code",
   "execution_count": 44,
   "id": "ebe6dcb9-b37f-43d7-98c9-70450353e81a",
   "metadata": {},
   "outputs": [],
   "source": [
    "train_dataset = tf.data.Dataset.load(config.TRAIN_DATA_PATH)\n",
    "val_dataset = tf.data.Dataset.load(config.VAL_DATA_PATH)\n",
    "tokenizers = tf.saved_model.load(config.TOKENIZER_PATH)"
   ]
  },
  {
   "cell_type": "code",
   "execution_count": 45,
   "id": "c9d88de9-acf8-4fbf-a59d-6d1e02843558",
   "metadata": {},
   "outputs": [],
   "source": [
    "lengths = []\n",
    "\n",
    "for batch in train_dataset.batch(1024):\n",
    "    eng_tokens = tokenizers.eng.tokenize(batch[:, 0])\n",
    "    lengths.append(eng_tokens.row_lengths())\n",
    "    spa_tokens = tokenizers.spa.tokenize(batch[:, 1])\n",
    "    lengths.append(spa_tokens.row_lengths())"
   ]
  },
  {
   "cell_type": "code",
   "execution_count": 46,
   "id": "c0b78837-cb37-406e-9523-0422095a46de",
   "metadata": {},
   "outputs": [
    {
     "data": {
      "image/png": "[encoded data removed]",
      "text/plain": [
       "<Figure size 640x480 with 1 Axes>"
      ]
     },
     "metadata": {},
     "output_type": "display_data"
    }
   ],
   "source": [
    "all_lengths = np.concatenate(lengths)\n",
    "\n",
    "plt.hist(all_lengths, np.linspace(0, 100, 51))\n",
    "plt.ylim(plt.ylim())\n",
    "max_length = max(all_lengths)\n",
    "plt.plot([max_length, max_length], plt.ylim())\n",
    "plt.title(f\"Maximum tokens per example: {max_length}\");"
   ]
  },
  {
   "cell_type": "markdown",
   "id": "5dd8b7e1-a32d-48c1-a706-2faa1635cc9b",
   "metadata": {},
   "source": [
    "## Batches\n",
    "Split the tokenized dataset into batches for model training."
   ]
  },
  {
   "cell_type": "code",
   "execution_count": 47,
   "id": "886d7564-07ad-4441-a4e8-3cc31a7fce80",
   "metadata": {},
   "outputs": [],
   "source": [
    "def prepare_batch(batch):\n",
    "    eng = batch[:, 0]\n",
    "    eng = tokenizers.eng.tokenize(eng)  # Output is ragged.\n",
    "    eng = eng[:, : config.MAX_TOKENS]  # Trim to MAX_TOKENS.\n",
    "    eng = eng.to_tensor()  # Convert to 0-padded dense Tensor\n",
    "\n",
    "    spa = batch[:, 1]\n",
    "    spa = tokenizers.spa.tokenize(spa)\n",
    "    spa = spa[:, : (config.MAX_TOKENS + 1)]\n",
    "    spa_inputs = spa[:, :-1].to_tensor()  # Drop the [END] tokens\n",
    "    spa_labels = spa[:, 1:].to_tensor()  # Drop the [START] tokens\n",
    "\n",
    "    return (eng, spa_inputs), spa_labels\n",
    "\n",
    "\n",
    "def make_batches(ds):\n",
    "    return (\n",
    "        ds.batch(config.BATCH_SIZE)\n",
    "        .map(prepare_batch, tf.data.AUTOTUNE)\n",
    "        .prefetch(buffer_size=tf.data.AUTOTUNE)\n",
    "    )"
   ]
  },
  {
   "cell_type": "code",
   "execution_count": 48,
   "id": "f820708c-d630-4eff-81f3-96efa74b6609",
   "metadata": {},
   "outputs": [],
   "source": [
    "val_batches = make_batches(val_dataset)\n",
    "train_batches = make_batches(train_dataset)"
   ]
  },
  {
   "cell_type": "markdown",
   "id": "6d45e19e-18fd-4648-a7b7-5ecea856c5f6",
   "metadata": {},
   "source": [
    "## Transformer\n",
    "Compile and train the Transformer model."
   ]
  },
  {
   "cell_type": "code",
   "execution_count": 61,
   "id": "cf2effac-97b6-4ced-9523-dbb0a28fb558",
   "metadata": {},
   "outputs": [],
   "source": [
    "from model import Transformer\n",
    "\n",
    "transformer = Transformer(\n",
    "    num_layers=config.N_LAYERS,\n",
    "    d_model=config.D_MODEL,\n",
    "    num_heads=config.N_HEADS,\n",
    "    dff=config.FFN_DIM,\n",
    "    input_vocab_size=config.VOCAB_SIZE,\n",
    "    target_vocab_size=config.VOCAB_SIZE,\n",
    "    dropout_rate=config.DROPOUT_RATE,\n",
    ")"
   ]
  },
  {
   "cell_type": "code",
   "execution_count": 64,
   "id": "918757dd-3674-4ecd-b7fc-54cff1d03ca0",
   "metadata": {},
   "outputs": [
    {
     "name": "stdout",
     "output_type": "stream",
     "text": [
      "Model: \"transformer\"\n",
      "_________________________________________________________________\n",
      " Layer (type)                Output Shape              Param #   \n",
      "=================================================================\n",
      " encoder_1 (Encoder)         multiple                  988160    \n",
      "                                                                 \n",
      " decoder_1 (Decoder)         multiple                  1519360   \n",
      "                                                                 \n",
      " dense_38 (Dense)            multiple                  195000    \n",
      "                                                                 \n",
      "=================================================================\n",
      "Total params: 2702520 (10.31 MB)\n",
      "Trainable params: 2702520 (10.31 MB)\n",
      "Non-trainable params: 0 (0.00 Byte)\n",
      "_________________________________________________________________\n"
     ]
    }
   ],
   "source": [
    "transformer.summary()"
   ]
  },
  {
   "cell_type": "code",
   "execution_count": 65,
   "id": "b173f19b-fea4-49f0-9a8a-e1903ffe1b8b",
   "metadata": {},
   "outputs": [],
   "source": [
    "from model import CustomSchedule\n",
    "\n",
    "learning_rate = CustomSchedule(config.D_MODEL)\n",
    "optimizer = tf.keras.optimizers.legacy.Adam(\n",
    "    learning_rate=learning_rate, **config.OPTIMIZER_KWARGS\n",
    ")"
   ]
  },
  {
   "cell_type": "code",
   "execution_count": 66,
   "id": "0597caf0-6ff3-4f81-b42c-8ee7cbe72dce",
   "metadata": {},
   "outputs": [
    {
     "data": {
      "text/plain": [
       "Text(0.5, 0, 'Train Step')"
      ]
     },
     "execution_count": 66,
     "metadata": {},
     "output_type": "execute_result"
    },
    {
     "data": {
      "image/png": "[encoded data removed]",
      "text/plain": [
       "<Figure size 640x480 with 1 Axes>"
      ]
     },
     "metadata": {},
     "output_type": "display_data"
    }
   ],
   "source": [
    "plt.plot(learning_rate(tf.range(40000, dtype=tf.float32)))\n",
    "plt.ylabel(\"Learning Rate\")\n",
    "plt.xlabel(\"Train Step\")"
   ]
  },
  {
   "cell_type": "code",
   "execution_count": 67,
   "id": "de8ecc35-a94e-477e-b8be-28186cce6353",
   "metadata": {},
   "outputs": [],
   "source": [
    "from model import masked_loss, masked_accuracy\n",
    "\n",
    "transformer.compile(\n",
    "    loss=masked_loss, optimizer=optimizer, metrics=[masked_accuracy]\n",
    ")"
   ]
  },
  {
   "cell_type": "code",
   "execution_count": 70,
   "id": "978477fb-1763-47cc-9037-1cad46f2d877",
   "metadata": {},
   "outputs": [
    {
     "name": "stdout",
     "output_type": "stream",
     "text": [
      "Epoch 1/10\n",
      "2254/2254 [==============================] - 505s 223ms/step - loss: 4.6335 - masked_accuracy: 0.3104 - val_loss: 2.6951 - val_masked_accuracy: 0.5098\n",
      "Epoch 2/10\n",
      "2254/2254 [==============================] - 499s 222ms/step - loss: 2.5677 - masked_accuracy: 0.5120 - val_loss: 1.7944 - val_masked_accuracy: 0.6299\n",
      "Epoch 3/10\n",
      "2254/2254 [==============================] - 488s 217ms/step - loss: 2.0031 - masked_accuracy: 0.5926 - val_loss: 1.4413 - val_masked_accuracy: 0.6913\n",
      "Epoch 4/10\n",
      "2254/2254 [==============================] - 500s 222ms/step - loss: 1.7351 - masked_accuracy: 0.6356 - val_loss: 1.2849 - val_masked_accuracy: 0.7180\n",
      "Epoch 5/10\n",
      "2254/2254 [==============================] - 504s 224ms/step - loss: 1.5910 - masked_accuracy: 0.6599 - val_loss: 1.1904 - val_masked_accuracy: 0.7354\n",
      "Epoch 6/10\n",
      "2254/2254 [==============================] - 510s 226ms/step - loss: 1.4936 - masked_accuracy: 0.6768 - val_loss: 1.1229 - val_masked_accuracy: 0.7488\n",
      "Epoch 7/10\n",
      "2254/2254 [==============================] - 505s 224ms/step - loss: 1.4212 - masked_accuracy: 0.6893 - val_loss: 1.0728 - val_masked_accuracy: 0.7592\n",
      "Epoch 8/10\n",
      "2254/2254 [==============================] - 502s 223ms/step - loss: 1.3679 - masked_accuracy: 0.6989 - val_loss: 1.0331 - val_masked_accuracy: 0.7652\n",
      "Epoch 9/10\n",
      "2254/2254 [==============================] - 494s 219ms/step - loss: 1.3253 - masked_accuracy: 0.7069 - val_loss: 0.9971 - val_masked_accuracy: 0.7728\n",
      "Epoch 10/10\n",
      "2254/2254 [==============================] - 497s 221ms/step - loss: 1.2874 - masked_accuracy: 0.7139 - val_loss: 0.9734 - val_masked_accuracy: 0.7773\n"
     ]
    },
    {
     "data": {
      "text/plain": [
       "<keras.src.callbacks.History at 0x289888ac0>"
      ]
     },
     "execution_count": 70,
     "metadata": {},
     "output_type": "execute_result"
    }
   ],
   "source": [
    "transformer.fit(\n",
    "    train_batches, epochs=config.N_EPOCHS, validation_data=val_batches\n",
    ")"
   ]
  },
  {
   "cell_type": "markdown",
   "id": "50ccd2ce-5268-4013-9c0b-5f5980a308a8",
   "metadata": {},
   "source": [
    "## Translator\n",
    "Use the Transformer model and tokenizers in a translator."
   ]
  },
  {
   "cell_type": "code",
   "execution_count": 91,
   "id": "f9b73de4-1717-47fe-a628-41d450185475",
   "metadata": {},
   "outputs": [],
   "source": [
    "from model import Translator, ExportTranslator\n",
    "\n",
    "translator = Translator(tokenizers, transformer, max_length=config.MAX_TOKENS)"
   ]
  },
  {
   "cell_type": "code",
   "execution_count": 92,
   "id": "a26f04ac-8aae-4d6f-ae15-344ea814eba9",
   "metadata": {},
   "outputs": [],
   "source": [
    "def print_translation(sentence, tokens, ground_truth):\n",
    "    print(f'{\"Input:\":15s}: {sentence}')\n",
    "    print(f'{\"Prediction\":15s}: {tokens.numpy().decode(\"utf-8\")}')\n",
    "    print(f'{\"Ground truth\":15s}: {ground_truth}')"
   ]
  },
  {
   "cell_type": "code",
   "execution_count": 93,
   "id": "29a2dc40-5f33-42c7-973b-d61c982c1957",
   "metadata": {},
   "outputs": [
    {
     "name": "stdout",
     "output_type": "stream",
     "text": [
      "Input:         : this is a problem we have to solve .\n",
      "Prediction     : este es un problema que tenemos que solucionar .\n",
      "Ground truth   : este es un problema que tenemos que resolver .\n"
     ]
    }
   ],
   "source": [
    "sentence = \"this is a problem we have to solve .\"\n",
    "ground_truth = \"este es un problema que tenemos que resolver .\"\n",
    "\n",
    "translated_text, translated_tokens, attention_weights = translator(\n",
    "    tf.constant(sentence)\n",
    ")\n",
    "print_translation(sentence, translated_text, ground_truth)"
   ]
  },
  {
   "cell_type": "code",
   "execution_count": 94,
   "id": "03f90c9c-6749-479c-b67b-07bd8c3dc5fe",
   "metadata": {},
   "outputs": [],
   "source": [
    "translator = ExportTranslator(translator)"
   ]
  },
  {
   "cell_type": "code",
   "execution_count": 95,
   "id": "d8fc8607-ddd3-4be8-bdba-ecdca2eccb20",
   "metadata": {},
   "outputs": [
    {
     "data": {
      "text/plain": [
       "b'me gustan los trenes .'"
      ]
     },
     "execution_count": 95,
     "metadata": {},
     "output_type": "execute_result"
    }
   ],
   "source": [
    "translator(\"i like trains .\").numpy()"
   ]
  },
  {
   "cell_type": "code",
   "execution_count": 96,
   "id": "deb2be5e-8430-4dd1-8853-491d2a9e53f8",
   "metadata": {},
   "outputs": [
    {
     "name": "stdout",
     "output_type": "stream",
     "text": [
      "INFO:tensorflow:Assets written to: translator/assets\n"
     ]
    },
    {
     "name": "stderr",
     "output_type": "stream",
     "text": [
      "INFO:tensorflow:Assets written to: translator/assets\n"
     ]
    }
   ],
   "source": [
    "tf.saved_model.save(translator, export_dir=config.TRANSLATOR_PATH)"
   ]
  },
  {
   "cell_type": "code",
   "execution_count": null,
   "id": "14878d8a-a649-4e19-a9a9-0ea89afa774b",
   "metadata": {},
   "outputs": [],
   "source": []
  }
 ],
 "metadata": {
  "kernelspec": {
   "display_name": "Python 3 (ipykernel)",
   "language": "python",
   "name": "python3"
  },
  "language_info": {
   "codemirror_mode": {
    "name": "ipython",
    "version": 3
   },
   "file_extension": ".py",
   "mimetype": "text/x-python",
   "name": "python",
   "nbconvert_exporter": "python",
   "pygments_lexer": "ipython3",
   "version": "3.10.13"
  },
  "toc": {
   "base_numbering": 1,
   "nav_menu": {},
   "number_sections": true,
   "sideBar": true,
   "skip_h1_title": false,
   "title_cell": "Table of Contents",
   "title_sidebar": "Contents",
   "toc_cell": false,
   "toc_position": {},
   "toc_section_display": true,
   "toc_window_display": false
  }
 },
 "nbformat": 4,
 "nbformat_minor": 5
}
